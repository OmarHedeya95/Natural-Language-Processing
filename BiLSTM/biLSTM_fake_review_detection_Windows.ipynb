{
 "cells": [
  {
   "cell_type": "markdown",
   "metadata": {
    "id": "p0tH2rdOL6Fn"
   },
   "source": [
    "# **Import the packages**"
   ]
  },
  {
   "cell_type": "code",
   "execution_count": 1,
   "metadata": {
    "colab": {
     "base_uri": "https://localhost:8080/"
    },
    "id": "H0RHJvElArxd",
    "outputId": "49274863-9281-4150-9d92-08c127587560"
   },
   "outputs": [
    {
     "name": "stderr",
     "output_type": "stream",
     "text": [
      "[nltk_data] Downloading package stopwords to\n",
      "[nltk_data]     C:\\Users\\Canberk\\AppData\\Roaming\\nltk_data...\n",
      "[nltk_data]   Package stopwords is already up-to-date!\n"
     ]
    }
   ],
   "source": [
    "import pandas as pd\n",
    "import numpy as np\n",
    "from nltk.corpus import stopwords\n",
    "import nltk\n",
    "nltk.download('stopwords')\n",
    "stop=set(stopwords.words('english'))\n",
    "from keras.preprocessing.text import Tokenizer\n",
    "from keras.preprocessing.sequence import pad_sequences\n",
    "from tqdm import tqdm\n",
    "from keras.models import Model, Sequential\n",
    "from keras.layers import Embedding,LSTM,Dense,SpatialDropout1D,Dropout,Bidirectional, Input, concatenate\n",
    "from keras.initializers import Constant\n",
    "from sklearn.model_selection import train_test_split\n",
    "from keras.optimizers import Adam\n",
    "import tensorflow as tf\n",
    "\n",
    "import matplotlib.image  as mpimg\n",
    "import matplotlib.pyplot as plt\n",
    "\n",
    "import os.path\n",
    "import wget\n",
    "import shutil"
   ]
  },
  {
   "cell_type": "markdown",
   "metadata": {
    "id": "XsVzV8WZMOKI"
   },
   "source": [
    "# **Data Analysis and pre-processing**\n",
    "*Assumption:* The file 'amazon_reviews.txt' need to be uploaded to google colab.\n",
    "We use pandas to read the data. Our text file is 'tab' delimited. Hence we use *delimiter=\\t* in the read_csv() of pandas. Some rows of the data has missing columns. We want to remove these columns during preprocessing. Hence we have the argument *error_bad_lines=False* which will make sure some of the rows with missing values will not be read. "
   ]
  },
  {
   "cell_type": "code",
   "execution_count": 2,
   "metadata": {
    "colab": {
     "base_uri": "https://localhost:8080/"
    },
    "id": "saMGg92oHw-D",
    "outputId": "cf482e59-239f-4d9b-ae7d-4e0dbaba55cf"
   },
   "outputs": [
    {
     "name": "stdout",
     "output_type": "stream",
     "text": [
      "Downloading DB to train\n",
      "Download Completed!\n",
      "Unzipping...\n"
     ]
    }
   ],
   "source": [
    "if not os.path.isfile('amazon_reviews.txt'):\n",
    "    url = 'https://drive.google.com/uc?id=1-LYI_s6oZ0OTe3I0vFYRYIBVhjFswReY&export=download' # downloads db to train\n",
    "    print('Downloading DB to train')\n",
    "    wget.download(url)\n",
    "    print('Download Completed!\\nUnzipping...')\n",
    "    shutil.unpack_archive('amazon_reviews.zip')\n",
    "    \n",
    "dataset = pd.read_csv('amazon_reviews.txt', delimiter='\\t', error_bad_lines=False)"
   ]
  },
  {
   "cell_type": "markdown",
   "metadata": {
    "id": "8XTNPuOONxOu"
   },
   "source": [
    "**Analyse the data** <br/>\n",
    "We use the head() of the pandas package to see what our data looks like. From this data we can see that 'LABEL' is the column we are trying to predict. To predict this value we make use of different features from the data. \n",
    "The different features we are using are 'RATING', 'REVIEW_TEXT' and 'VERIFIED_PURCHASE'."
   ]
  },
  {
   "cell_type": "code",
   "execution_count": 3,
   "metadata": {
    "colab": {
     "base_uri": "https://localhost:8080/",
     "height": 285
    },
    "id": "bjEDkr7xII24",
    "outputId": "933b4bac-66e5-4ffc-85fd-a5bfa6b0881e"
   },
   "outputs": [
    {
     "data": {
      "text/html": [
       "<div>\n",
       "<style scoped>\n",
       "    .dataframe tbody tr th:only-of-type {\n",
       "        vertical-align: middle;\n",
       "    }\n",
       "\n",
       "    .dataframe tbody tr th {\n",
       "        vertical-align: top;\n",
       "    }\n",
       "\n",
       "    .dataframe thead th {\n",
       "        text-align: right;\n",
       "    }\n",
       "</style>\n",
       "<table border=\"1\" class=\"dataframe\">\n",
       "  <thead>\n",
       "    <tr style=\"text-align: right;\">\n",
       "      <th></th>\n",
       "      <th>DOC_ID</th>\n",
       "      <th>LABEL</th>\n",
       "      <th>RATING</th>\n",
       "      <th>VERIFIED_PURCHASE</th>\n",
       "      <th>PRODUCT_CATEGORY</th>\n",
       "      <th>PRODUCT_ID</th>\n",
       "      <th>PRODUCT_TITLE</th>\n",
       "      <th>REVIEW_TITLE</th>\n",
       "      <th>REVIEW_TEXT</th>\n",
       "    </tr>\n",
       "  </thead>\n",
       "  <tbody>\n",
       "    <tr>\n",
       "      <th>0</th>\n",
       "      <td>1</td>\n",
       "      <td>__label1__</td>\n",
       "      <td>4</td>\n",
       "      <td>N</td>\n",
       "      <td>PC</td>\n",
       "      <td>B00008NG7N</td>\n",
       "      <td>Targus PAUK10U Ultra Mini USB Keypad, Black</td>\n",
       "      <td>useful</td>\n",
       "      <td>When least you think so, this product will sav...</td>\n",
       "    </tr>\n",
       "    <tr>\n",
       "      <th>1</th>\n",
       "      <td>2</td>\n",
       "      <td>__label1__</td>\n",
       "      <td>4</td>\n",
       "      <td>Y</td>\n",
       "      <td>Wireless</td>\n",
       "      <td>B00LH0Y3NM</td>\n",
       "      <td>Note 3 Battery : Stalion Strength Replacement ...</td>\n",
       "      <td>New era for batteries</td>\n",
       "      <td>Lithium batteries are something new introduced...</td>\n",
       "    </tr>\n",
       "    <tr>\n",
       "      <th>2</th>\n",
       "      <td>3</td>\n",
       "      <td>__label1__</td>\n",
       "      <td>3</td>\n",
       "      <td>N</td>\n",
       "      <td>Baby</td>\n",
       "      <td>B000I5UZ1Q</td>\n",
       "      <td>Fisher-Price Papasan Cradle Swing, Starlight</td>\n",
       "      <td>doesn't swing very well.</td>\n",
       "      <td>I purchased this swing for my baby. She is 6 m...</td>\n",
       "    </tr>\n",
       "    <tr>\n",
       "      <th>3</th>\n",
       "      <td>4</td>\n",
       "      <td>__label1__</td>\n",
       "      <td>4</td>\n",
       "      <td>N</td>\n",
       "      <td>Office Products</td>\n",
       "      <td>B003822IRA</td>\n",
       "      <td>Casio MS-80B Standard Function Desktop Calculator</td>\n",
       "      <td>Great computing!</td>\n",
       "      <td>I was looking for an inexpensive desk calcolat...</td>\n",
       "    </tr>\n",
       "    <tr>\n",
       "      <th>4</th>\n",
       "      <td>5</td>\n",
       "      <td>__label1__</td>\n",
       "      <td>4</td>\n",
       "      <td>N</td>\n",
       "      <td>Beauty</td>\n",
       "      <td>B00PWSAXAM</td>\n",
       "      <td>Shine Whitening - Zero Peroxide Teeth Whitenin...</td>\n",
       "      <td>Only use twice a week</td>\n",
       "      <td>I only use it twice a week and the results are...</td>\n",
       "    </tr>\n",
       "  </tbody>\n",
       "</table>\n",
       "</div>"
      ],
      "text/plain": [
       "   DOC_ID       LABEL  RATING VERIFIED_PURCHASE PRODUCT_CATEGORY  PRODUCT_ID  \\\n",
       "0       1  __label1__       4                 N               PC  B00008NG7N   \n",
       "1       2  __label1__       4                 Y         Wireless  B00LH0Y3NM   \n",
       "2       3  __label1__       3                 N             Baby  B000I5UZ1Q   \n",
       "3       4  __label1__       4                 N  Office Products  B003822IRA   \n",
       "4       5  __label1__       4                 N           Beauty  B00PWSAXAM   \n",
       "\n",
       "                                       PRODUCT_TITLE  \\\n",
       "0        Targus PAUK10U Ultra Mini USB Keypad, Black   \n",
       "1  Note 3 Battery : Stalion Strength Replacement ...   \n",
       "2       Fisher-Price Papasan Cradle Swing, Starlight   \n",
       "3  Casio MS-80B Standard Function Desktop Calculator   \n",
       "4  Shine Whitening - Zero Peroxide Teeth Whitenin...   \n",
       "\n",
       "               REVIEW_TITLE                                        REVIEW_TEXT  \n",
       "0                    useful  When least you think so, this product will sav...  \n",
       "1     New era for batteries  Lithium batteries are something new introduced...  \n",
       "2  doesn't swing very well.  I purchased this swing for my baby. She is 6 m...  \n",
       "3          Great computing!  I was looking for an inexpensive desk calcolat...  \n",
       "4     Only use twice a week  I only use it twice a week and the results are...  "
      ]
     },
     "execution_count": 3,
     "metadata": {},
     "output_type": "execute_result"
    }
   ],
   "source": [
    "dataset.head()"
   ]
  },
  {
   "cell_type": "markdown",
   "metadata": {
    "id": "os_kvcCcOvkS"
   },
   "source": [
    "We observe that the 'LABEL' and 'VERIFIED_PURCHASE' column are Categorical. To work with Deep learning models we need to convert these Categorical values to numerical values."
   ]
  },
  {
   "cell_type": "code",
   "execution_count": 4,
   "metadata": {
    "id": "6O6bYN4WIwox"
   },
   "outputs": [],
   "source": [
    "dataset['LABEL'] = pd.Categorical(dataset['LABEL'])\n",
    "dataset['LABEL'] = dataset['LABEL'].cat.codes"
   ]
  },
  {
   "cell_type": "code",
   "execution_count": 5,
   "metadata": {
    "id": "Wgub9D_WBCSd"
   },
   "outputs": [],
   "source": [
    "dataset['VERIFIED_PURCHASE'] = pd.Categorical(dataset['VERIFIED_PURCHASE'])\n",
    "dataset['VERIFIED_PURCHASE'] = dataset['VERIFIED_PURCHASE'].cat.codes"
   ]
  },
  {
   "cell_type": "markdown",
   "metadata": {
    "id": "yaDbMbrzPK59"
   },
   "source": [
    "# **Train, validation and test split**\n",
    "We have the data to work with and we need to split it to training set, validation set and test set. We train our model on the training set, tune our hyperparameters on the validation set and finally use it on the test set. We split the data into 80% training set, 10% validation set and 10% test set"
   ]
  },
  {
   "cell_type": "code",
   "execution_count": 6,
   "metadata": {
    "id": "stT4HNk_ENlM"
   },
   "outputs": [],
   "source": [
    "x_train, x_testval, y_train, y_testval = train_test_split(dataset[['REVIEW_TEXT','RATING','VERIFIED_PURCHASE']], dataset[['LABEL']] , test_size = 0.20)\n",
    "x_test, x_val, y_test, y_val = train_test_split(x_testval[['REVIEW_TEXT','RATING','VERIFIED_PURCHASE']], y_testval[['LABEL']] , test_size = 0.50)"
   ]
  },
  {
   "cell_type": "code",
   "execution_count": 7,
   "metadata": {
    "id": "zIbDoCQWFXT3"
   },
   "outputs": [],
   "source": [
    "x_train_review = x_train['REVIEW_TEXT']\n",
    "x_train_verified_purchase = x_train['VERIFIED_PURCHASE']\n",
    "x_train_rating = x_train['RATING']\n",
    "x_val_review = x_val['REVIEW_TEXT']\n",
    "x_val_verified_purchase = x_val['VERIFIED_PURCHASE']\n",
    "x_val_rating = x_val['RATING']\n",
    "x_test_review = x_test['REVIEW_TEXT']\n",
    "x_test_verified_purchase = x_test['VERIFIED_PURCHASE']\n",
    "x_test_rating = x_test['RATING']"
   ]
  },
  {
   "cell_type": "markdown",
   "metadata": {
    "id": "wIYuEtXWQNAu"
   },
   "source": [
    "# **Tokenize and Build vocabulary**\n",
    "Once we have our training data we tokenize the 'REVIEW_TEXT' part of the training data and build a vocabulary from that. We have defined the vocabulary size to be 20000. Any token which is not part of the vocabulary will be repalced with \\<unk>. We also set the max length to 100 which means that any sentence have a length greater than 100 will be truncated and any sentence having a length less than 100 will be padded.\n",
    "We then convert the sequence of texts into sequence of integers "
   ]
  },
  {
   "cell_type": "code",
   "execution_count": 8,
   "metadata": {
    "id": "EPFo6EdNJaIc"
   },
   "outputs": [],
   "source": [
    "vocab_size = 20000\n",
    "oov_token = \"<OOV>\"\n",
    "max_length = 100\n",
    "padding_type = \"post\"\n",
    "trunction_type=\"post\""
   ]
  },
  {
   "cell_type": "code",
   "execution_count": 9,
   "metadata": {
    "id": "iG-O6hgVJeft"
   },
   "outputs": [],
   "source": [
    "tokenizer = Tokenizer(num_words = vocab_size, oov_token=oov_token)\n",
    "tokenizer.fit_on_texts(x_train_review)"
   ]
  },
  {
   "cell_type": "code",
   "execution_count": 10,
   "metadata": {
    "id": "34jhDJX5Jkzf"
   },
   "outputs": [],
   "source": [
    "X_train_sequences = tokenizer.texts_to_sequences(x_train_review)"
   ]
  },
  {
   "cell_type": "code",
   "execution_count": 11,
   "metadata": {
    "id": "gCDttH12JoDA"
   },
   "outputs": [],
   "source": [
    "X_train_padded = pad_sequences(X_train_sequences,maxlen=max_length, padding=padding_type, \n",
    "                       truncating=trunction_type)"
   ]
  },
  {
   "cell_type": "code",
   "execution_count": 12,
   "metadata": {
    "id": "wnEY5ChvQQ32"
   },
   "outputs": [],
   "source": [
    "X_val_sequences = tokenizer.texts_to_sequences(x_val_review)\n",
    "X_val_padded = pad_sequences(X_val_sequences,maxlen=max_length, \n",
    "                               padding=padding_type, truncating=trunction_type)"
   ]
  },
  {
   "cell_type": "code",
   "execution_count": 13,
   "metadata": {
    "id": "s98QfTnjJtLT"
   },
   "outputs": [],
   "source": [
    "X_test_sequences = tokenizer.texts_to_sequences(x_test_review)\n",
    "X_test_padded = pad_sequences(X_test_sequences,maxlen=max_length, \n",
    "                               padding=padding_type, truncating=trunction_type)"
   ]
  },
  {
   "cell_type": "markdown",
   "metadata": {
    "id": "dol4lag7Rbkh"
   },
   "source": [
    "# **Transfer Learning: Use pre-trained word embeddings**\n",
    "In natural language processing, each word is represented as a dense vector. This kind of representation allows the model to understand what a word actually means. For this dense vector representation we use pre-trained GloVe embeddings.In our case we decided to represent each word with a 100-dimensional vector.\n",
    "\n",
    "Below we download the GloVe embeddings, and create a embedding matrix from it."
   ]
  },
  {
   "cell_type": "code",
   "execution_count": 14,
   "metadata": {
    "colab": {
     "base_uri": "https://localhost:8080/"
    },
    "id": "IHQTHSfoJ6xq",
    "outputId": "e7730219-cd4c-43e5-ec33-b101efb47ef7"
   },
   "outputs": [],
   "source": [
    "if not os.path.isfile('glove.6B.100d.txt'):\n",
    "    url = 'http://nlp.stanford.edu/data/glove.6B.zip' # large file, might take a while to download :)\n",
    "    print('Downloading Pre-trained Word Embeddings')\n",
    "    wget.download(url)\n",
    "    print('Download Completed!\\nUnzipping...')\n",
    "    shutil.unpack_archive('glove.6B.zip')"
   ]
  },
  {
   "cell_type": "code",
   "execution_count": 15,
   "metadata": {
    "colab": {
     "base_uri": "https://localhost:8080/"
    },
    "id": "Zv8FnbRpKxCk",
    "outputId": "bb01bf97-a716-4c90-9f8e-b040e19014f0"
   },
   "outputs": [
    {
     "name": "stdout",
     "output_type": "stream",
     "text": [
      "Pre-trained Word Embeddings Loaded from Disk.\n",
      "Found 400000 word vectors.\n"
     ]
    }
   ],
   "source": [
    "embeddings_index = {}\n",
    "f = open('glove.6B.100d.txt', encoding=\"utf8\")\n",
    "for line in f:\n",
    "    values = line.split()\n",
    "    word = values[0]\n",
    "    coefs = np.asarray(values[1:], dtype='float32')\n",
    "    embeddings_index[word] = coefs\n",
    "f.close()\n",
    "\n",
    "print('Pre-trained Word Embeddings Loaded from Disk.\\nFound %s word vectors.' % len(embeddings_index))"
   ]
  },
  {
   "cell_type": "code",
   "execution_count": 16,
   "metadata": {
    "id": "UMb5i1kxLIlz"
   },
   "outputs": [],
   "source": [
    "embedding_matrix = np.zeros((len(tokenizer.word_index) + 1, max_length))\n",
    "#print(embedding_matrix.shape)\n",
    "for word, i in tokenizer.word_index.items():\n",
    "    embedding_vector = embeddings_index.get(word)\n",
    "    if embedding_vector is not None:\n",
    "        # words not found in embedding index will be all-zeros.\n",
    "        #print(embedding_vector.shape)\n",
    "        embedding_matrix[i] = embedding_vector"
   ]
  },
  {
   "cell_type": "code",
   "execution_count": 17,
   "metadata": {
    "id": "baZCY1BVLQ5B"
   },
   "outputs": [],
   "source": [
    "#https://datascience.stackexchange.com/questions/45165/how-to-get-accuracy-f1-precision-and-recall-for-a-keras-model\n",
    "\n",
    "from keras import backend as K\n",
    "\n",
    "def recall_m(y_true, y_pred):\n",
    "    print(y_true)\n",
    "    print(y_pred)\n",
    "    true_positives = K.sum(K.round(K.clip(y_true * y_pred, 0, 1)))\n",
    "    possible_positives = K.sum(K.round(K.clip(y_true, 0, 1)))\n",
    "    recall = true_positives / (possible_positives + K.epsilon())\n",
    "    return recall\n",
    "\n",
    "def precision_m(y_true, y_pred):\n",
    "    true_positives = K.sum(K.round(K.clip(y_true * y_pred, 0, 1)))\n",
    "    predicted_positives = K.sum(K.round(K.clip(y_pred, 0, 1)))\n",
    "    precision = true_positives / (predicted_positives + K.epsilon())\n",
    "    return precision\n",
    "\n",
    "def f1_m(y_true, y_pred):\n",
    "    precision = precision_m(y_true, y_pred)\n",
    "    recall = recall_m(y_true, y_pred)\n",
    "    return 2*((precision*recall)/(precision+recall+K.epsilon()))"
   ]
  },
  {
   "cell_type": "code",
   "execution_count": 18,
   "metadata": {},
   "outputs": [
    {
     "data": {
      "text/plain": [
       "[PhysicalDevice(name='/physical_device:CPU:0', device_type='CPU'),\n",
       " PhysicalDevice(name='/physical_device:GPU:0', device_type='GPU')]"
      ]
     },
     "execution_count": 18,
     "metadata": {},
     "output_type": "execute_result"
    }
   ],
   "source": [
    "# Enable GPU Training if available\n",
    "\n",
    "tf.config.get_visible_devices()"
   ]
  },
  {
   "cell_type": "markdown",
   "metadata": {
    "id": "L_G94fWxTDzf"
   },
   "source": [
    "# **Build the model**\n",
    "The model that we have build has 3 heads. Each of the head will process 3 different features. The results of the 3 heads are concatenated and processed further in the feed forward network to get the final predictions. After a lot of experimentation on how to process these 3 features seperately we finalized this architecture. \n",
    "\n",
    "\n",
    "\n",
    "1.   First head is the **REVIEW_TEXT head**. This part of our model processes only the review text. We have a initial embedding layer which provides the embeddings for all the tokens in the training data. We process the sequence using a **Bi directional LSTM**. The output from bidirectional LSTM is fed to a dense Fully coonected layer\n",
    "2.   Second head is the **RATING head** which is used to process the RATING feature in a dence fully connected layer.\n",
    "3. Third head is the **VERIFIED_PURCHASE head** which will take as input the VERIFIED_PURCHASE feature and produce a intermediate represenataion for it.\n",
    "\n",
    "The output from the 3 heads are concatenated and passed to a fully connected layer which does the predection. \n",
    "We use a 'Binary Cross Entropy' loss and all the 3 heads are trained jointly.\n",
    "\n",
    "\n",
    "\n"
   ]
  },
  {
   "cell_type": "code",
   "execution_count": 19,
   "metadata": {
    "id": "N5Z3a3YYLWWM"
   },
   "outputs": [],
   "source": [
    "embedding_layer = Embedding(len(tokenizer.word_index) + 1,\n",
    "                            max_length,\n",
    "                            embeddings_initializer=Constant(embedding_matrix),\n",
    "                            #input_length=max_length,\n",
    "                            trainable=False)"
   ]
  },
  {
   "cell_type": "code",
   "execution_count": 20,
   "metadata": {
    "id": "oOEnoSJyIrSJ"
   },
   "outputs": [],
   "source": [
    "review_branch_ip = Input(shape=(100,), name='Review_input')\n",
    "review_branch = embedding_layer(review_branch_ip)\n",
    "review_branch = Dropout(0.2)(review_branch)\n",
    "review_branch = Bidirectional(\n",
    "    LSTM(64, dropout=0.2,recurrent_dropout=0)\n",
    ")(review_branch)\n",
    "review_branch = Dense(64,activation='relu')(review_branch)\n",
    "review_branch_op = Dense(16, activation='relu')(review_branch)\n",
    "#output = Dense(1,activation='sigmoid')(review_branch)\n",
    "\n",
    "\n",
    "rating_branch_ip = Input(shape=(1,), name='Rating_input')\n",
    "rating_branch = Dense(8,activation='relu')(rating_branch_ip)\n",
    "rating_branch = Dropout(0.2)(rating_branch)\n",
    "rating_branch_op = Dense(16,activation='relu')(rating_branch)\n",
    "\n",
    "\n",
    "\n",
    "verified_purchase_branch_ip = Input(shape=(1,), name='Verified_Purchase_input')\n",
    "verified_purchase_branch = Dense(8,activation='relu')(verified_purchase_branch_ip)\n",
    "verified_purchase_branch = Dropout(0.2)(verified_purchase_branch)\n",
    "verified_purchase_branch_op = Dense(16,activation='relu')(verified_purchase_branch)\n",
    "\n",
    "\n",
    "concat = concatenate([review_branch_op, rating_branch_op, verified_purchase_branch_op], name='Concatenate')\n",
    "\n",
    "\n",
    "final_op = Dense(8, activation='relu')(concat)\n",
    "final_output = Dense(1,activation='sigmoid')(final_op)\n",
    "\n",
    "model = Model(inputs=[review_branch_ip,rating_branch_ip,verified_purchase_branch_ip], outputs=final_output,\n",
    "                    name='Final_output')"
   ]
  },
  {
   "cell_type": "markdown",
   "metadata": {
    "id": "Uz0alr3QVYdI"
   },
   "source": [
    "The model is compiled using the ADAM optimizer and Binary Cross Entropy loss"
   ]
  },
  {
   "cell_type": "code",
   "execution_count": 21,
   "metadata": {
    "id": "reKaMzr5MXAC"
   },
   "outputs": [],
   "source": [
    "optimzer = Adam(clipvalue=0.5) # clip value to avoid the gradient exploding\n",
    "\n",
    "model.compile(optimizer=optimzer, \n",
    "              loss='binary_crossentropy', \n",
    "              metrics=['acc'])"
   ]
  },
  {
   "cell_type": "code",
   "execution_count": 22,
   "metadata": {
    "colab": {
     "base_uri": "https://localhost:8080/"
    },
    "id": "QYC5oTzQMc-i",
    "outputId": "14d2634c-309f-4778-defb-816ce7fd02f6"
   },
   "outputs": [
    {
     "name": "stdout",
     "output_type": "stream",
     "text": [
      "Model: \"Final_output\"\n",
      "__________________________________________________________________________________________________\n",
      "Layer (type)                    Output Shape         Param #     Connected to                     \n",
      "==================================================================================================\n",
      "Review_input (InputLayer)       [(None, 100)]        0                                            \n",
      "__________________________________________________________________________________________________\n",
      "embedding (Embedding)           (None, 100, 100)     3267300     Review_input[0][0]               \n",
      "__________________________________________________________________________________________________\n",
      "dropout (Dropout)               (None, 100, 100)     0           embedding[0][0]                  \n",
      "__________________________________________________________________________________________________\n",
      "Rating_input (InputLayer)       [(None, 1)]          0                                            \n",
      "__________________________________________________________________________________________________\n",
      "Verified_Purchase_input (InputL [(None, 1)]          0                                            \n",
      "__________________________________________________________________________________________________\n",
      "bidirectional (Bidirectional)   (None, 128)          84480       dropout[0][0]                    \n",
      "__________________________________________________________________________________________________\n",
      "dense_2 (Dense)                 (None, 8)            16          Rating_input[0][0]               \n",
      "__________________________________________________________________________________________________\n",
      "dense_4 (Dense)                 (None, 8)            16          Verified_Purchase_input[0][0]    \n",
      "__________________________________________________________________________________________________\n",
      "dense (Dense)                   (None, 64)           8256        bidirectional[0][0]              \n",
      "__________________________________________________________________________________________________\n",
      "dropout_1 (Dropout)             (None, 8)            0           dense_2[0][0]                    \n",
      "__________________________________________________________________________________________________\n",
      "dropout_2 (Dropout)             (None, 8)            0           dense_4[0][0]                    \n",
      "__________________________________________________________________________________________________\n",
      "dense_1 (Dense)                 (None, 16)           1040        dense[0][0]                      \n",
      "__________________________________________________________________________________________________\n",
      "dense_3 (Dense)                 (None, 16)           144         dropout_1[0][0]                  \n",
      "__________________________________________________________________________________________________\n",
      "dense_5 (Dense)                 (None, 16)           144         dropout_2[0][0]                  \n",
      "__________________________________________________________________________________________________\n",
      "Concatenate (Concatenate)       (None, 48)           0           dense_1[0][0]                    \n",
      "                                                                 dense_3[0][0]                    \n",
      "                                                                 dense_5[0][0]                    \n",
      "__________________________________________________________________________________________________\n",
      "dense_6 (Dense)                 (None, 8)            392         Concatenate[0][0]                \n",
      "__________________________________________________________________________________________________\n",
      "dense_7 (Dense)                 (None, 1)            9           dense_6[0][0]                    \n",
      "==================================================================================================\n",
      "Total params: 3,361,797\n",
      "Trainable params: 94,497\n",
      "Non-trainable params: 3,267,300\n",
      "__________________________________________________________________________________________________\n"
     ]
    }
   ],
   "source": [
    "model.summary()"
   ]
  },
  {
   "cell_type": "code",
   "execution_count": 23,
   "metadata": {
    "colab": {
     "base_uri": "https://localhost:8080/"
    },
    "id": "yOiJy71RMixh",
    "outputId": "3044fe81-a90a-4e97-8496-0a32371c8918",
    "scrolled": true
   },
   "outputs": [
    {
     "name": "stdout",
     "output_type": "stream",
     "text": [
      "Epoch 1/10\n",
      "525/525 [==============================] - 6s 12ms/step - loss: 0.5548 - acc: 0.7304 - val_loss: 0.4901 - val_acc: 0.7929\n",
      "Epoch 2/10\n",
      "525/525 [==============================] - 5s 10ms/step - loss: 0.4839 - acc: 0.7840 - val_loss: 0.4719 - val_acc: 0.7995\n",
      "Epoch 3/10\n",
      "525/525 [==============================] - 6s 11ms/step - loss: 0.4677 - acc: 0.7923 - val_loss: 0.4668 - val_acc: 0.8019\n",
      "Epoch 4/10\n",
      "525/525 [==============================] - 6s 11ms/step - loss: 0.4586 - acc: 0.7997 - val_loss: 0.4574 - val_acc: 0.8029\n",
      "Epoch 5/10\n",
      "525/525 [==============================] - 5s 10ms/step - loss: 0.4520 - acc: 0.8040 - val_loss: 0.4696 - val_acc: 0.7895\n",
      "Epoch 6/10\n",
      "525/525 [==============================] - 6s 11ms/step - loss: 0.4473 - acc: 0.8057 - val_loss: 0.4641 - val_acc: 0.8043\n",
      "Epoch 7/10\n",
      "525/525 [==============================] - 6s 11ms/step - loss: 0.4426 - acc: 0.8116 - val_loss: 0.4859 - val_acc: 0.7762\n",
      "Epoch 8/10\n",
      "525/525 [==============================] - 6s 10ms/step - loss: 0.4322 - acc: 0.8152 - val_loss: 0.4555 - val_acc: 0.8081\n",
      "Epoch 9/10\n",
      "525/525 [==============================] - 6s 11ms/step - loss: 0.4266 - acc: 0.8183 - val_loss: 0.4592 - val_acc: 0.8019\n",
      "Epoch 10/10\n",
      "525/525 [==============================] - 7s 14ms/step - loss: 0.4154 - acc: 0.8246 - val_loss: 0.4708 - val_acc: 0.7790\n"
     ]
    }
   ],
   "source": [
    "history = model.fit([X_train_padded,x_train_rating,x_train_verified_purchase], y_train, batch_size=32,epochs=10, validation_data=([X_val_padded,x_val_rating,x_val_verified_purchase], y_val))"
   ]
  },
  {
   "cell_type": "markdown",
   "metadata": {
    "id": "jQYmJ6_0ioX-"
   },
   "source": [
    "**Evaluate and save the model**"
   ]
  },
  {
   "cell_type": "code",
   "execution_count": 24,
   "metadata": {
    "colab": {
     "base_uri": "https://localhost:8080/"
    },
    "id": "zkOhFOxThW_9",
    "outputId": "e4c7322f-b620-4f46-8a63-e1e56e2b6ab2"
   },
   "outputs": [
    {
     "name": "stdout",
     "output_type": "stream",
     "text": [
      "66/66 - 0s - loss: 0.4439 - acc: 0.8176\n"
     ]
    },
    {
     "data": {
      "text/plain": [
       "[0.44386595487594604, 0.8176190257072449]"
      ]
     },
     "execution_count": 24,
     "metadata": {},
     "output_type": "execute_result"
    }
   ],
   "source": [
    "model.evaluate([X_test_padded, x_test_rating, x_test_verified_purchase], y_test, verbose=2)"
   ]
  },
  {
   "cell_type": "code",
   "execution_count": 30,
   "metadata": {
    "id": "pibiq1jzfPTN"
   },
   "outputs": [],
   "source": [
    "model.save('blstmv1.h5') # make sure to have enough free RAM!"
   ]
  },
  {
   "cell_type": "markdown",
   "metadata": {
    "id": "d4JUm6dijTAU"
   },
   "source": [
    "**Reload the model and verify the accuracy.**"
   ]
  },
  {
   "cell_type": "code",
   "execution_count": 26,
   "metadata": {
    "id": "YEzb1HVsizVZ"
   },
   "outputs": [],
   "source": [
    "new_model = tf.keras.models.load_model('blstmv1.h5')\n"
   ]
  },
  {
   "cell_type": "code",
   "execution_count": 27,
   "metadata": {
    "colab": {
     "base_uri": "https://localhost:8080/"
    },
    "id": "0Z1fV5IxizLD",
    "outputId": "b857b38d-b092-4833-cd24-ae2e5d976d69"
   },
   "outputs": [
    {
     "name": "stdout",
     "output_type": "stream",
     "text": [
      "Model: \"Final_output\"\n",
      "__________________________________________________________________________________________________\n",
      "Layer (type)                    Output Shape         Param #     Connected to                     \n",
      "==================================================================================================\n",
      "Review_input (InputLayer)       [(None, 100)]        0                                            \n",
      "__________________________________________________________________________________________________\n",
      "embedding (Embedding)           (None, 100, 100)     3267300     Review_input[0][0]               \n",
      "__________________________________________________________________________________________________\n",
      "dropout (Dropout)               (None, 100, 100)     0           embedding[0][0]                  \n",
      "__________________________________________________________________________________________________\n",
      "Rating_input (InputLayer)       [(None, 1)]          0                                            \n",
      "__________________________________________________________________________________________________\n",
      "Verified_Purchase_input (InputL [(None, 1)]          0                                            \n",
      "__________________________________________________________________________________________________\n",
      "bidirectional (Bidirectional)   (None, 128)          84480       dropout[0][0]                    \n",
      "__________________________________________________________________________________________________\n",
      "dense_2 (Dense)                 (None, 8)            16          Rating_input[0][0]               \n",
      "__________________________________________________________________________________________________\n",
      "dense_4 (Dense)                 (None, 8)            16          Verified_Purchase_input[0][0]    \n",
      "__________________________________________________________________________________________________\n",
      "dense (Dense)                   (None, 64)           8256        bidirectional[0][0]              \n",
      "__________________________________________________________________________________________________\n",
      "dropout_1 (Dropout)             (None, 8)            0           dense_2[0][0]                    \n",
      "__________________________________________________________________________________________________\n",
      "dropout_2 (Dropout)             (None, 8)            0           dense_4[0][0]                    \n",
      "__________________________________________________________________________________________________\n",
      "dense_1 (Dense)                 (None, 16)           1040        dense[0][0]                      \n",
      "__________________________________________________________________________________________________\n",
      "dense_3 (Dense)                 (None, 16)           144         dropout_1[0][0]                  \n",
      "__________________________________________________________________________________________________\n",
      "dense_5 (Dense)                 (None, 16)           144         dropout_2[0][0]                  \n",
      "__________________________________________________________________________________________________\n",
      "Concatenate (Concatenate)       (None, 48)           0           dense_1[0][0]                    \n",
      "                                                                 dense_3[0][0]                    \n",
      "                                                                 dense_5[0][0]                    \n",
      "__________________________________________________________________________________________________\n",
      "dense_6 (Dense)                 (None, 8)            392         Concatenate[0][0]                \n",
      "__________________________________________________________________________________________________\n",
      "dense_7 (Dense)                 (None, 1)            9           dense_6[0][0]                    \n",
      "==================================================================================================\n",
      "Total params: 3,361,797\n",
      "Trainable params: 94,497\n",
      "Non-trainable params: 3,267,300\n",
      "__________________________________________________________________________________________________\n"
     ]
    }
   ],
   "source": [
    "new_model.summary()"
   ]
  },
  {
   "cell_type": "code",
   "execution_count": 28,
   "metadata": {
    "colab": {
     "base_uri": "https://localhost:8080/"
    },
    "id": "rvmlxuTHjJtd",
    "outputId": "23f091f7-494b-4bb7-bb82-5395e56a7592"
   },
   "outputs": [
    {
     "name": "stdout",
     "output_type": "stream",
     "text": [
      "66/66 - 0s - loss: 0.4439 - acc: 0.8176\n"
     ]
    },
    {
     "data": {
      "text/plain": [
       "[0.44386595487594604, 0.8176190257072449]"
      ]
     },
     "execution_count": 28,
     "metadata": {},
     "output_type": "execute_result"
    }
   ],
   "source": [
    "new_model.evaluate([X_test_padded, x_test_rating, x_test_verified_purchase], y_test, verbose=2)"
   ]
  },
  {
   "cell_type": "code",
   "execution_count": 29,
   "metadata": {},
   "outputs": [
    {
     "data": {
      "image/png": "[encoded data removed]",
      "text/plain": [
       "<Figure size 432x288 with 1 Axes>"
      ]
     },
     "metadata": {
      "needs_background": "light"
     },
     "output_type": "display_data"
    },
    {
     "data": {
      "image/png": "[encoded data removed]",
      "text/plain": [
       "<Figure size 432x288 with 1 Axes>"
      ]
     },
     "metadata": {
      "needs_background": "light"
     },
     "output_type": "display_data"
    }
   ],
   "source": [
    "# Visualize the results:\n",
    "\n",
    "plt.plot(history.history['acc'])\n",
    "plt.plot(history.history['val_acc'])\n",
    "plt.title('Model accuracy')\n",
    "plt.ylabel('Accuracy')\n",
    "plt.xlabel('Epoch')\n",
    "plt.legend(['Train', 'Test'], loc='upper left')\n",
    "plt.show()\n",
    "\n",
    "plt.plot(history.history['loss'])\n",
    "plt.plot(history.history['val_loss'])\n",
    "plt.title('Model loss')\n",
    "plt.ylabel('Loss')\n",
    "plt.xlabel('Epoch')\n",
    "plt.legend(['Train', 'Test'], loc='upper right')\n",
    "plt.show()"
   ]
  }
 ],
 "metadata": {
  "colab": {
   "name": "Seminar.ipynb",
   "provenance": []
  },
  "kernelspec": {
   "display_name": "Python 3",
   "language": "python",
   "name": "python3"
  },
  "language_info": {
   "codemirror_mode": {
    "name": "ipython",
    "version": 3
   },
   "file_extension": ".py",
   "mimetype": "text/x-python",
   "name": "python",
   "nbconvert_exporter": "python",
   "pygments_lexer": "ipython3",
   "version": "3.8.8"
  }
 },
 "nbformat": 4,
 "nbformat_minor": 1
}
